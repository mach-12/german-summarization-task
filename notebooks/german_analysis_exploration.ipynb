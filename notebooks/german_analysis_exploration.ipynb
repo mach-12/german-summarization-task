{
 "cells": [
  {
   "cell_type": "code",
   "execution_count": 2,
   "metadata": {},
   "outputs": [
    {
     "ename": "ImportError",
     "evalue": "cannot import name 'PipeComponent' from 'spacy.pipeline' (/opt/homebrew/lib/python3.11/site-packages/spacy/pipeline/__init__.py)",
     "output_type": "error",
     "traceback": [
      "\u001b[0;31m---------------------------------------------------------------------------\u001b[0m",
      "\u001b[0;31mImportError\u001b[0m                               Traceback (most recent call last)",
      "Cell \u001b[0;32mIn[2], line 4\u001b[0m\n\u001b[1;32m      2\u001b[0m \u001b[38;5;28;01mfrom\u001b[39;00m \u001b[38;5;21;01mspacy\u001b[39;00m\u001b[38;5;21;01m.\u001b[39;00m\u001b[38;5;21;01mtokens\u001b[39;00m \u001b[38;5;28;01mimport\u001b[39;00m Doc\n\u001b[1;32m      3\u001b[0m \u001b[38;5;28;01mfrom\u001b[39;00m \u001b[38;5;21;01mspacy\u001b[39;00m\u001b[38;5;21;01m.\u001b[39;00m\u001b[38;5;21;01mlanguage\u001b[39;00m \u001b[38;5;28;01mimport\u001b[39;00m Language\n\u001b[0;32m----> 4\u001b[0m \u001b[38;5;28;01mfrom\u001b[39;00m \u001b[38;5;21;01mspacy\u001b[39;00m\u001b[38;5;21;01m.\u001b[39;00m\u001b[38;5;21;01mpipeline\u001b[39;00m \u001b[38;5;28;01mimport\u001b[39;00m PipeComponent\n\u001b[1;32m      5\u001b[0m \u001b[38;5;28;01mfrom\u001b[39;00m \u001b[38;5;21;01mtextstat\u001b[39;00m \u001b[38;5;28;01mimport\u001b[39;00m flesch_kincaid_grade, gunning_fog\n\u001b[1;32m      6\u001b[0m \u001b[38;5;28;01mfrom\u001b[39;00m \u001b[38;5;21;01mtextblob\u001b[39;00m \u001b[38;5;28;01mimport\u001b[39;00m TextBlob\n",
      "\u001b[0;31mImportError\u001b[0m: cannot import name 'PipeComponent' from 'spacy.pipeline' (/opt/homebrew/lib/python3.11/site-packages/spacy/pipeline/__init__.py)"
     ]
    }
   ],
   "source": [
    "import spacy\n",
    "from spacy.tokens import Doc\n",
    "from spacy.language import Language\n",
    "\n",
    "from textblob import TextBlob\n",
    "from rake_nltk import Rake"
   ]
  },
  {
   "cell_type": "code",
   "execution_count": 35,
   "metadata": {},
   "outputs": [],
   "source": [
    "import spacy\n",
    "from spacy.lang.de import German\n",
    "from textblob import TextBlob\n",
    "from textstat import flesch_kincaid_grade, gunning_fog\n",
    "from rake_nltk import Rake  # Assuming you'll use RAKE for keyword extraction\n",
    "\n",
    "class GermanTextAnalyzer():\n",
    "    def __init__(self, text) -> None:\n",
    "        self.nlp = German()  # Load the German NLP pipeline\n",
    "        self.nlp.add_pipe('sentencizer')\n",
    "        self.doc = self.nlp(text)  # Process the text\n",
    "        self.rake = Rake()  # Initialize RAKE for keyphrase extraction\n",
    "\n",
    "    def analyze(self):\n",
    "        results = {\n",
    "            'word_count': self.word_count(self.doc),\n",
    "            'sentence_count': self.sentence_count(self.doc),\n",
    "            'avg_word_length': self.avg_word_length(self.doc),\n",
    "            'fk_grade': self.flesch_kincaid_grade(self.doc),\n",
    "            'gf_index': self.gunning_fog(self.doc),\n",
    "            'sentence_complexity': self.sentence_complexity(self.doc),\n",
    "            'lexical_diversity': self.lexical_diversity(self.doc),\n",
    "            # 'entities': self.entities(self.doc),\n",
    "            'sentiment': self.sentiment(self.doc),\n",
    "            # 'keyphrases': self.keyphrases(self.doc)\n",
    "        }\n",
    "        return results\n",
    "\n",
    "    def word_count(self, doc):\n",
    "        return len(doc)\n",
    "    \n",
    "    def sentence_count(self, doc):\n",
    "        return len(list(doc.sents))\n",
    "    \n",
    "    def avg_word_length(self, doc):\n",
    "        word_count = len(doc)\n",
    "        return sum(len(token.text) for token in doc) / word_count if word_count > 0 else 0\n",
    "    \n",
    "    def flesch_kincaid_grade(self, doc):\n",
    "        return flesch_kincaid_grade(doc.text)\n",
    "    \n",
    "    def gunning_fog(self, doc):\n",
    "        return gunning_fog(doc.text)\n",
    "    \n",
    "    def sentence_complexity(self, doc):\n",
    "        sentence_count = len(list(doc.sents))\n",
    "        return sum(len(sent) for sent in doc.sents) / sentence_count if sentence_count > 0 else 0\n",
    "    \n",
    "    def lexical_diversity(self, doc):\n",
    "        word_count = len(doc)\n",
    "        return len(set(token.text.lower() for token in doc)) / word_count if word_count > 0 else 0\n",
    "    \n",
    "    # def entities(self, doc):\n",
    "    #     return [(ent.text, ent.label_) for ent in doc.ents]\n",
    "    \n",
    "    def sentiment(self, doc):\n",
    "        blob = TextBlob(doc.text)\n",
    "        polarity = blob.sentiment.polarity\n",
    "        if polarity > 0:\n",
    "            return \"Positive\"\n",
    "        elif polarity < 0:\n",
    "            return \"Negative\"\n",
    "        else:\n",
    "            return \"Neutral\"\n",
    "    \n",
    "    # def keyphrases(self, doc):\n",
    "    #     self.rake.extract_keywords_from_text(doc.text)\n",
    "    #     return self.rake.get_ranked_phrases()"
   ]
  },
  {
   "cell_type": "code",
   "execution_count": 37,
   "metadata": {},
   "outputs": [
    {
     "name": "stdout",
     "output_type": "stream",
     "text": [
      "{'word_count': 9, 'sentence_count': 1, 'avg_word_length': 4.222222222222222, 'fk_grade': 0.5, 'gf_index': 3.2, 'sentence_complexity': 9.0, 'lexical_diversity': 1.0, 'sentiment': 'Neutral'}\n"
     ]
    }
   ],
   "source": [
    "# Import necessary libraries\n",
    "import spacy\n",
    "from spacy.lang.de import German\n",
    "from textblob import TextBlob\n",
    "from rake_nltk import Rake\n",
    "import nltk\n",
    "\n",
    "try:\n",
    "    # Attempt to access a stopword\n",
    "    nltk.corpus.stopwords.words(\"german\")  # You can replace \"english\" with other languages as needed\n",
    "except LookupError as e:\n",
    "    # If stopwords aren't found, download them\n",
    "    print(f\"{e}\\nDownloading stopwords now...\")\n",
    "    nltk.download(\"stopwords\")\n",
    "    print(\"Stopwords downloaded successfully. You can now proceed with your code.\")\n",
    "\n",
    "# Create an instance of the analyzer\n",
    "analyzer = GermanTextAnalyzer(\"Dies ist ein Beispieltext auf Deutsch al amn.\")\n",
    "\n",
    "# Analyze the text and get the results\n",
    "results = analyzer.analyze()\n",
    "\n",
    "# Print the analysis results\n",
    "print(results)\n"
   ]
  },
  {
   "cell_type": "code",
   "execution_count": null,
   "metadata": {},
   "outputs": [],
   "source": []
  }
 ],
 "metadata": {
  "kernelspec": {
   "display_name": "Python 3",
   "language": "python",
   "name": "python3"
  },
  "language_info": {
   "codemirror_mode": {
    "name": "ipython",
    "version": 3
   },
   "file_extension": ".py",
   "mimetype": "text/x-python",
   "name": "python",
   "nbconvert_exporter": "python",
   "pygments_lexer": "ipython3",
   "version": "3.12.2"
  }
 },
 "nbformat": 4,
 "nbformat_minor": 2
}
